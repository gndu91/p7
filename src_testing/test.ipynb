{
 "cells": [
  {
   "metadata": {
    "collapsed": true
   },
   "cell_type": "markdown",
   "source": "# Découverte de mlflow, les cellule suivant sont basées sur les snippets générés par MLFLow UI, pour l'expérience \"test\"",
   "id": "1081a8d3df8b1b8"
  },
  {
   "metadata": {
    "ExecuteTime": {
     "end_time": "2025-08-17T12:47:31.746273Z",
     "start_time": "2025-08-17T12:47:31.743285Z"
    }
   },
   "cell_type": "code",
   "source": [
    "from pathlib import Path\n",
    "\n",
    "import pandas as pd\n",
    "from sklearn.linear_model import ElasticNet\n",
    "from sklearn.metrics import mean_squared_error, mean_absolute_error, r2_score\n",
    "from sklearn.datasets import load_iris\n",
    "from sklearn.model_selection import train_test_split\n",
    "import mlflow\n",
    "from packaging.version import Version\n",
    "\n",
    "import mlflow.sklearn\n",
    "from mlflow.entities import Dataset\n",
    "from mlflow import set_tracking_uri\n",
    "\n",
    "try:\n",
    "    Path('mlruns').symlink_to('../mlruns')\n",
    "except FileExistsError:\n",
    "    assert Path('mlruns').readlink().samefile('../mlruns')"
   ],
   "id": "d0051a8414796819",
   "outputs": [],
   "execution_count": 8
  },
  {
   "metadata": {
    "ExecuteTime": {
     "end_time": "2025-08-17T12:48:02.095602Z",
     "start_time": "2025-08-17T12:48:02.088517Z"
    }
   },
   "cell_type": "code",
   "source": [
    "\n",
    "assert Version(mlflow.__version__) >= Version(\"2.14.3\"), (\n",
    "  \"This feature requires MLflow version 2.14.3 or newer. \"\n",
    "  \"Please run '%pip install -U mlflow' in a notebook cell, \"\n",
    "  \"and restart the kernel when the command finishes.\"\n",
    ")\n",
    "\n",
    "@mlflow.trace\n",
    "def foo(a): return a + bar(a)\n",
    "\n",
    "# Various attributes can be passed to the decorator\n",
    "# to modify the information contained in the span\n",
    "@mlflow.trace(name = \"custom_name\", attributes = { \"key\": \"value\" })\n",
    "def bar(b): return b + 1\n",
    "\n",
    "# Invoking the traced function will cause a trace to be logged\n",
    "foo(1)"
   ],
   "id": "fd8a27e4d69fb665",
   "outputs": [
    {
     "data": {
      "text/plain": [
       "3"
      ]
     },
     "execution_count": 11,
     "metadata": {},
     "output_type": "execute_result"
    }
   ],
   "execution_count": 11
  },
  {
   "metadata": {
    "ExecuteTime": {
     "end_time": "2025-08-17T12:47:34.288594Z",
     "start_time": "2025-08-17T12:47:32.703400Z"
    }
   },
   "cell_type": "code",
   "source": [
    "\n",
    "mlflow.set_experiment(experiment_id=\"525382780087659060\")\n",
    "\n",
    "# Helper function to compute metrics\n",
    "def compute_metrics(actual, predicted):\n",
    "    rmse = mean_squared_error(actual, predicted)\n",
    "    mae = mean_absolute_error(actual, predicted)\n",
    "    r2 = r2_score(actual, predicted)\n",
    "    return rmse, mae, r2\n",
    "\n",
    "# Load Iris dataset and prepare the DataFrame\n",
    "iris = load_iris()\n",
    "iris_df = pd.DataFrame(data=iris.data, columns=iris.feature_names)\n",
    "iris_df['quality'] = (iris.target == 2).astype(int)  # Create a binary target for simplicity\n",
    "\n",
    "# Split into training and testing datasets\n",
    "train_df, test_df = train_test_split(iris_df, test_size=0.2, random_state=42)\n",
    "\n",
    "# Start a run to represent the training job\n",
    "with mlflow.start_run() as training_run:\n",
    "    # Load the training dataset with MLflow. We will link training metrics to this dataset.\n",
    "    train_dataset: Dataset = mlflow.data.from_pandas(train_df, name=\"train\")\n",
    "    train_x = train_dataset.df.drop([\"quality\"], axis=1)\n",
    "    train_y = train_dataset.df[[\"quality\"]]\n",
    "\n",
    "    # Fit a model to the training dataset\n",
    "    lr = ElasticNet(alpha=0.5, l1_ratio=0.5, random_state=42)\n",
    "    lr.fit(train_x, train_y)\n",
    "\n",
    "    # Log the model, specifying its ElasticNet parameters (alpha, l1_ratio)\n",
    "    # As a new feature, the LoggedModel entity is linked to its name and params\n",
    "    model_info = mlflow.sklearn.log_model(\n",
    "        sk_model=lr,\n",
    "        name=\"elasticnet\",\n",
    "        params={\n",
    "            \"alpha\": 0.5,\n",
    "            \"l1_ratio\": 0.5,\n",
    "        },\n",
    "        input_example = train_x\n",
    "    )\n",
    "\n",
    "    # Inspect the LoggedModel and its properties\n",
    "    logged_model = mlflow.get_logged_model(model_info.model_id)\n",
    "    print(logged_model.model_id, logged_model.params)\n",
    "\n",
    "    # Evaluate the model on the training dataset and log metrics\n",
    "    # These metrics are now linked to the LoggedModel entity\n",
    "    predictions = lr.predict(train_x)\n",
    "    (rmse, mae, r2) = compute_metrics(train_y, predictions)\n",
    "    mlflow.log_metrics(\n",
    "        metrics={\n",
    "            \"rmse\": rmse,\n",
    "            \"r2\": r2,\n",
    "            \"mae\": mae,\n",
    "        },\n",
    "        model_id=logged_model.model_id,\n",
    "        dataset=train_dataset\n",
    "    )\n",
    "\n",
    "    # Inspect the LoggedModel, now with metrics\n",
    "    logged_model = mlflow.get_logged_model(model_info.model_id)\n",
    "    print(logged_model.model_id, logged_model.metrics)"
   ],
   "id": "803daff27ae4d4f3",
   "outputs": [
    {
     "name": "stdout",
     "output_type": "stream",
     "text": [
      "m-d97b2e5f518e422480a68b81ec9c69ed {'alpha': '0.5', 'l1_ratio': '0.5'}\n",
      "m-d97b2e5f518e422480a68b81ec9c69ed [<Metric: dataset_digest='d95ce242', dataset_name='train', key='rmse', model_id='m-d97b2e5f518e422480a68b81ec9c69ed', run_id='a945819386c54d369d99a747b05030a5', step=0, timestamp=1755434854280, value=0.1326400936461997>, <Metric: dataset_digest='d95ce242', dataset_name='train', key='mae', model_id='m-d97b2e5f518e422480a68b81ec9c69ed', run_id='a945819386c54d369d99a747b05030a5', step=0, timestamp=1755434854280, value=0.3209158276037644>, <Metric: dataset_digest='d95ce242', dataset_name='train', key='r2', model_id='m-d97b2e5f518e422480a68b81ec9c69ed', run_id='a945819386c54d369d99a747b05030a5', step=0, timestamp=1755434854280, value=0.3953727924959558>]\n"
     ]
    },
    {
     "name": "stderr",
     "output_type": "stream",
     "text": [
      "/home/nadir/Projects/p7.13.env/lib/python3.13/site-packages/mlflow/types/utils.py:452: UserWarning: Hint: Inferred schema contains integer column(s). Integer columns in Python cannot represent missing values. If your input data contains missing values at inference time, it will be encoded as floats and will cause a schema enforcement error. The best way to avoid this problem is to infer the model schema based on a realistic data sample (training dataset) that includes missing values. Alternatively, you can declare integer columns as doubles (float64) whenever these columns may have missing values. See `Handling Integers With Missing Values <https://www.mlflow.org/docs/latest/models.html#handling-integers-with-missing-values>`_ for more details.\n",
      "  warnings.warn(\n"
     ]
    }
   ],
   "execution_count": 10
  },
  {
   "metadata": {
    "ExecuteTime": {
     "end_time": "2025-08-17T12:46:06.869852Z",
     "start_time": "2025-08-17T12:46:06.868077Z"
    }
   },
   "cell_type": "code",
   "source": "",
   "id": "68ba581bbbb3459b",
   "outputs": [],
   "execution_count": null
  }
 ],
 "metadata": {
  "kernelspec": {
   "display_name": "Python 3",
   "language": "python",
   "name": "python3"
  },
  "language_info": {
   "codemirror_mode": {
    "name": "ipython",
    "version": 2
   },
   "file_extension": ".py",
   "mimetype": "text/x-python",
   "name": "python",
   "nbconvert_exporter": "python",
   "pygments_lexer": "ipython2",
   "version": "2.7.6"
  }
 },
 "nbformat": 4,
 "nbformat_minor": 5
}
