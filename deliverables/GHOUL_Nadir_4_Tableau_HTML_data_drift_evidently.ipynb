{
 "cells": [
  {
   "cell_type": "markdown",
   "metadata": {},
   "source": "# Analyse de Data Drift avec Evidently",
   "id": "9ef37b51fe7c09cd"
  },
  {
   "cell_type": "code",
   "metadata": {
    "ExecuteTime": {
     "end_time": "2025-08-24T23:03:30.028092Z",
     "start_time": "2025-08-24T23:03:16.198732Z"
    }
   },
   "source": [
    "import pandas as pd\n",
    "from evidently import Report\n",
    "\n",
    "from zipfile import ZipFile\n",
    "from pathlib import Path\n",
    "\n",
    "from evidently.presets import DataDriftPreset\n",
    "\n",
    "# Chemin vers le zip téléchargé (adapte si nécessaire)\n",
    "archive_folder = Path('..')\n",
    "\n",
    "# Chargement des datasets\n",
    "app_train_df = pd.read_csv(archive_folder / 'application_train.csv')\n",
    "app_test_df = pd.read_csv(archive_folder / 'application_test.csv')\n",
    "\n",
    "# Hypothèse : app_train est la référence (données d'entraînement)\n",
    "# et app_test simule les nouvelles données en production\n",
    "reference_data = app_train_df.sample(n=20000, random_state=42)\n",
    "current_data = app_test_df.sample(n=20000, random_state=42)\n",
    "\n",
    "print(\"Données de référence chargées:\", reference_data.shape)\n",
    "print(\"Données courantes chargées:\", current_data.shape)\n",
    "\n",
    "(run := Report(metrics=[DataDriftPreset(), ]).run(reference_data=reference_data, current_data=current_data)).save_html(\n",
    "    'report.html')\n",
    "\n",
    "run"
   ],
   "id": "6d89ed4905cb28d3",
   "outputs": [
    {
     "name": "stdout",
     "output_type": "stream",
     "text": [
      "Données de référence chargées: (20000, 122)\n",
      "Données courantes chargées: (20000, 121)\n"
     ]
    }
   ],
   "execution_count": 6
  }
 ],
 "metadata": {
  "kernelspec": {
   "display_name": "Python 3",
   "language": "python",
   "name": "python3"
  },
  "language_info": {
   "codemirror_mode": {
    "name": "ipython",
    "version": 3
   },
   "file_extension": ".py",
   "mimetype": "text/x-python",
   "name": "python",
   "nbconvert_exporter": "python",
   "pygments_lexer": "ipython3",
   "version": "3.10"
  }
 },
 "nbformat": 4,
 "nbformat_minor": 5
}
