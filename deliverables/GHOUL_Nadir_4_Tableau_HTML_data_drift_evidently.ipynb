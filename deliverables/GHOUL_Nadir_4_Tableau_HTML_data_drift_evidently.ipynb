{
 "cells": [
  {
   "cell_type": "markdown",
   "metadata": {},
   "source": "# Analyse de Data Drift avec Evidently",
   "id": "9ef37b51fe7c09cd"
  },
  {
   "cell_type": "code",
   "metadata": {
    "ExecuteTime": {
     "end_time": "2025-08-24T20:02:03.047889Z",
     "start_time": "2025-08-24T20:02:01.483174Z"
    }
   },
   "source": [
    "import pandas as pd\n",
    "from evidently.report import Report\n",
    "from evidently.metric_preset import DataDriftPreset\n",
    "from zipfile import ZipFile\n",
    "from pathlib import Path\n",
    "\n",
    "# Chemin vers le zip téléchargé (adapte si nécessaire)\n",
    "archive_folder = Path('~/.cache/gn_p7/1ea8215587f859b1f7d54483ca794f576307374092b715694c65a251b3a3250e.dir')\n",
    "\n",
    "# Chargement des datasets\n",
    "app_train_df = pd.read_csv(archive_folder / 'application_train.csv')\n",
    "app_test_df = pd.read_csv(archive_folder / 'application_test.csv')\n",
    "\n",
    "# Hypothèse : app_train est la référence (données d'entraînement)\n",
    "# et app_test simule les nouvelles données en production\n",
    "reference_data = app_train_df.sample(n=20000, random_state=42)\n",
    "current_data = app_test_df.sample(n=20000, random_state=42)\n",
    "\n",
    "print(\"Données de référence chargées:\", reference_data.shape)\n",
    "print(\"Données courantes chargées:\", current_data.shape)"
   ],
   "id": "6d89ed4905cb28d3",
   "outputs": [
    {
     "ename": "ModuleNotFoundError",
     "evalue": "No module named 'evidently.report'",
     "output_type": "error",
     "traceback": [
      "\u001B[31m---------------------------------------------------------------------------\u001B[39m",
      "\u001B[31mModuleNotFoundError\u001B[39m                       Traceback (most recent call last)",
      "\u001B[36mCell\u001B[39m\u001B[36m \u001B[39m\u001B[32mIn[2]\u001B[39m\u001B[32m, line 2\u001B[39m\n\u001B[32m      1\u001B[39m \u001B[38;5;28;01mimport\u001B[39;00m\u001B[38;5;250m \u001B[39m\u001B[34;01mpandas\u001B[39;00m\u001B[38;5;250m \u001B[39m\u001B[38;5;28;01mas\u001B[39;00m\u001B[38;5;250m \u001B[39m\u001B[34;01mpd\u001B[39;00m\n\u001B[32m----> \u001B[39m\u001B[32m2\u001B[39m \u001B[38;5;28;01mfrom\u001B[39;00m\u001B[38;5;250m \u001B[39m\u001B[34;01mevidently\u001B[39;00m\u001B[34;01m.\u001B[39;00m\u001B[34;01mreport\u001B[39;00m\u001B[38;5;250m \u001B[39m\u001B[38;5;28;01mimport\u001B[39;00m Report\n\u001B[32m      3\u001B[39m \u001B[38;5;28;01mfrom\u001B[39;00m\u001B[38;5;250m \u001B[39m\u001B[34;01mevidently\u001B[39;00m\u001B[34;01m.\u001B[39;00m\u001B[34;01mmetric_preset\u001B[39;00m\u001B[38;5;250m \u001B[39m\u001B[38;5;28;01mimport\u001B[39;00m DataDriftPreset\n\u001B[32m      4\u001B[39m \u001B[38;5;28;01mfrom\u001B[39;00m\u001B[38;5;250m \u001B[39m\u001B[34;01mzipfile\u001B[39;00m\u001B[38;5;250m \u001B[39m\u001B[38;5;28;01mimport\u001B[39;00m ZipFile\n",
      "\u001B[31mModuleNotFoundError\u001B[39m: No module named 'evidently.report'"
     ]
    }
   ],
   "execution_count": 2
  },
  {
   "cell_type": "code",
   "execution_count": null,
   "metadata": {},
   "outputs": [],
   "source": [
    "# Création du rapport de data drift\n",
    "data_drift_report = Report(metrics=[\n",
    "    DataDriftPreset(),\n",
    "])\n",
    "\n",
    "# Exécution du rapport\n",
    "data_drift_report.run(reference_data=reference_data, current_data=current_data)\n",
    "\n",
    "# Affichage dans le notebook\n",
    "data_drift_report"
   ],
   "id": "a29d08731709cd4"
  },
  {
   "cell_type": "code",
   "execution_count": null,
   "metadata": {},
   "outputs": [],
   "source": [
    "# Sauvegarde du rapport en fichier HTML\n",
    "data_drift_report.save_html('data_drift_report.html')\n",
    "print(\"Rapport de data drift sauvegardé dans 'data_drift_report.html'\")"
   ],
   "id": "43b5e20e4225c55d"
  },
  {
   "metadata": {},
   "cell_type": "code",
   "outputs": [],
   "execution_count": null,
   "source": "",
   "id": "4d74e285fec586fa"
  }
 ],
 "metadata": {
  "kernelspec": {
   "display_name": "Python 3",
   "language": "python",
   "name": "python3"
  },
  "language_info": {
   "codemirror_mode": {
    "name": "ipython",
    "version": 3
   },
   "file_extension": ".py",
   "mimetype": "text/x-python",
   "name": "python",
   "nbconvert_exporter": "python",
   "pygments_lexer": "ipython3",
   "version": "3.10"
  }
 },
 "nbformat": 4,
 "nbformat_minor": 5
}
